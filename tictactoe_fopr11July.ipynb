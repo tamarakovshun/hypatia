{
  "nbformat": 4,
  "nbformat_minor": 0,
  "metadata": {
    "colab": {
      "provenance": [],
      "authorship_tag": "ABX9TyObSuPmWXAj6HkyNTgiBcuu",
      "include_colab_link": true
    },
    "kernelspec": {
      "name": "python3",
      "display_name": "Python 3"
    },
    "language_info": {
      "name": "python"
    }
  },
  "cells": [
    {
      "cell_type": "markdown",
      "metadata": {
        "id": "view-in-github",
        "colab_type": "text"
      },
      "source": [
        "<a href=\"https://colab.research.google.com/github/tamarakovshun/hypatia/blob/main/tictactoe_fopr11July.ipynb\" target=\"_parent\"><img src=\"https://colab.research.google.com/assets/colab-badge.svg\" alt=\"Open In Colab\"/></a>"
      ]
    },
    {
      "cell_type": "markdown",
      "source": [
        "To see if the tic tac toe board is a winner we need to see if there any straight with 3 symbols all the same.  we know there are 7 lines.  3 rows.  3 columns, 1 diagonal\n",
        "4:42\n",
        "for each of these 7 lines we have a winner if all three values are same\n",
        "4:42\n",
        "for example t[0][1]==t[1][1]==t[2][2]\n",
        "\n",
        "\n",
        "\n",
        "\n",
        "\n"
      ],
      "metadata": {
        "id": "B2FL1kIuz1js"
      }
    },
    {
      "cell_type": "code",
      "source": [
        "\n",
        "import numpy as np\n",
        "\n",
        "import random\n",
        "\n",
        "t =np.array([[None,None,None],\n",
        " [None,None,None],\n",
        " [None,None,None]])\n",
        "\n",
        "#first='x'\n",
        "for column in range(3):\n",
        "  for row in range(3):\n",
        "    number=random.randint(0,1)\n",
        "    if number == 0:\n",
        "      square = \"x\"\n",
        "    else:\n",
        "      square = \"o\"\n",
        "\n",
        "    t[row][column]=square\n",
        "\n",
        "\n",
        "print(t)\n",
        "\n",
        "\n",
        "if t[0,0] == t[0,1] == t[0,2]:\n",
        "  print(t[0,0] , \" wins\")\n",
        "\n",
        "elif t[1,0] == t[1,1] == t[1,2]:\n",
        "  print(t[1,0] , \"wins\")\n",
        "\n",
        "elif t[2,0] == t[2,1] == t[2,2]:\n",
        "  print(t[2,0] , \"wins\")\n",
        "\n",
        "elif t[0,0] == t[1,0] == t[2,0]:\n",
        "  print(t[0,0] , \"wins\")\n",
        "\n",
        "elif t[0,1] == t[1,1] == t[2,1]:\n",
        "  print(t[0,1] , \"wins\")\n",
        "\n",
        "elif t[0,2] == t[1,2] == t[2,2]:\n",
        "  print(t[0,2] , \"wins \")\n",
        "\n",
        "elif t[0,0] == t[1,1] == t[2,2]:\n",
        "  print(t[0,0] , \"wins\")\n",
        "\n",
        "elif t[2,0] == t[1,1] == t[0,2]:\n",
        "  print(t[2,0] , \"wins\")\n",
        "\n",
        "else:\n",
        "  print(\"all lose\")"
      ],
      "metadata": {
        "colab": {
          "base_uri": "https://localhost:8080/"
        },
        "id": "mEpSMnqP0RT7",
        "outputId": "8b68db5f-149b-460e-a4d8-a0d8fb657bec"
      },
      "execution_count": 101,
      "outputs": [
        {
          "output_type": "stream",
          "name": "stdout",
          "text": [
            "[['o' 'o' 'x']\n",
            " ['x' 'x' 'x']\n",
            " ['o' 'o' 'x']]\n",
            "x wins\n"
          ]
        }
      ]
    },
    {
      "cell_type": "code",
      "source": [
        "x=0\n",
        "0=1"
      ],
      "metadata": {
        "colab": {
          "base_uri": "https://localhost:8080/",
          "height": 132
        },
        "id": "pbDWOxT1_XRK",
        "outputId": "f62e6c53-ec16-4fd3-b30c-834d6a8fe2dd"
      },
      "execution_count": 78,
      "outputs": [
        {
          "output_type": "error",
          "ename": "SyntaxError",
          "evalue": "ignored",
          "traceback": [
            "\u001b[0;36m  File \u001b[0;32m\"<ipython-input-78-f69c3d41b03d>\"\u001b[0;36m, line \u001b[0;32m2\u001b[0m\n\u001b[0;31m    x= 1,\u001b[0m\n\u001b[0m    ^\u001b[0m\n\u001b[0;31mSyntaxError\u001b[0m\u001b[0;31m:\u001b[0m invalid syntax. Maybe you meant '==' or ':=' instead of '='?\n"
          ]
        }
      ]
    },
    {
      "cell_type": "code",
      "source": [
        "if t[0,0] == t[0,1] == t[0,2]:\n",
        "  print(\"win\")\n",
        "elif t[1,0] == t[1,1] == t[1,2]:\n",
        "  print(\"win\")\n",
        "elif t[2,0] == t[2,1] == t[2,2]:\n",
        "  print(\"win\")\n",
        "elif t[0,0] == t[1,0] == t[2,0]:\n",
        "  print(\"win\")\n",
        "elif t[0,1] == t[1,1] == t[2,1]:\n",
        "  print(\"win\")\n",
        "elif t[0,2] == t[1,2] == t[2,2]:\n",
        "  print(\"win\")\n",
        "elif t[0,0] == t[1,1] == t[2,2]:\n",
        "  print(\"win\")\n",
        "elif t[2,0] == t[1,1] == t[0,2]:\n",
        "  print(\"win\")\n",
        "else:\n",
        "  print(\"lose\")"
      ],
      "metadata": {
        "id": "cbj3WBqH-zR0"
      },
      "execution_count": null,
      "outputs": []
    }
  ]
}