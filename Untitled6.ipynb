{
  "nbformat": 4,
  "nbformat_minor": 0,
  "metadata": {
    "colab": {
      "provenance": [],
      "authorship_tag": "ABX9TyP/f3uifm5NqDM5EqLIVQ4g",
      "include_colab_link": true
    },
    "kernelspec": {
      "name": "python3",
      "display_name": "Python 3"
    },
    "language_info": {
      "name": "python"
    }
  },
  "cells": [
    {
      "cell_type": "markdown",
      "metadata": {
        "id": "view-in-github",
        "colab_type": "text"
      },
      "source": [
        "<a href=\"https://colab.research.google.com/github/tamarakovshun/hypatia/blob/main/Untitled6.ipynb\" target=\"_parent\"><img src=\"https://colab.research.google.com/assets/colab-badge.svg\" alt=\"Open In Colab\"/></a>"
      ]
    },
    {
      "cell_type": "code",
      "execution_count": 8,
      "metadata": {
        "colab": {
          "base_uri": "https://localhost:8080/"
        },
        "id": "qv8s_w2nl1_c",
        "outputId": "e20ff835-0b99-4956-b167-23a0b58fd522"
      },
      "outputs": [
        {
          "output_type": "stream",
          "name": "stdout",
          "text": [
            "53647\n",
            "b'\\xd1\\x8f'\n",
            "я\n"
          ]
        }
      ],
      "source": [
        "ya=int(\"0xd18f\", 16)\n",
        "print(ya)\n",
        "\n",
        "twoBytes=ya.to_bytes(2,'big')\n",
        "print(twoBytes)\n",
        "\n",
        "decodedTwoBytes=twoBytes.decode('utf-8')\n",
        "print(decodedTwoBytes)"
      ]
    },
    {
      "cell_type": "code",
      "source": [
        "t=int(\"0xd182\", 16)\n",
        "twoBytes=t.to_bytes(2,'big')\n",
        "decodedTwoBytes=twoBytes.decode('utf-8')\n",
        "print(decodedTwoBytes)\n",
        "\n",
        "\n",
        "o=int(\"0xd0be\", 16)\n",
        "twoBytes1=o.to_bytes(2,'big')\n",
        "decodedTwoBytes1=twoBytes1.decode('utf-8')\n",
        "print(decodedTwoBytes1)\n",
        "\n",
        "\n",
        "\n",
        "m=int(\"0xd0bc\", 16)\n",
        "twoBytes2=m.to_bytes(2,'big')\n",
        "decodedTwoBytes2=twoBytes2.decode('utf-8')\n",
        "print(decodedTwoBytes2)\n",
        "\n",
        "\n",
        "\n",
        "a=int(\"0xd0b0\", 16)\n",
        "twoBytes3=a.to_bytes(2,'big')\n",
        "decodedTwoBytes3=twoBytes3.decode('utf-8')\n",
        "print(decodedTwoBytes3)"
      ],
      "metadata": {
        "colab": {
          "base_uri": "https://localhost:8080/"
        },
        "id": "OypYBjE3nRor",
        "outputId": "5dc0d768-d640-4893-8e6b-00e20edc9f7c"
      },
      "execution_count": 11,
      "outputs": [
        {
          "output_type": "stream",
          "name": "stdout",
          "text": [
            "т\n",
            "о\n",
            "м\n",
            "а\n"
          ]
        }
      ]
    }
  ]
}