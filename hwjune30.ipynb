{
  "nbformat": 4,
  "nbformat_minor": 0,
  "metadata": {
    "colab": {
      "provenance": [],
      "authorship_tag": "ABX9TyNCQAf+mgyAffKNcnw6blQN",
      "include_colab_link": true
    },
    "kernelspec": {
      "name": "python3",
      "display_name": "Python 3"
    },
    "language_info": {
      "name": "python"
    }
  },
  "cells": [
    {
      "cell_type": "markdown",
      "metadata": {
        "id": "view-in-github",
        "colab_type": "text"
      },
      "source": [
        "<a href=\"https://colab.research.google.com/github/tamarakovshun/hypatia/blob/main/hwjune30.ipynb\" target=\"_parent\"><img src=\"https://colab.research.google.com/assets/colab-badge.svg\" alt=\"Open In Colab\"/></a>"
      ]
    },
    {
      "cell_type": "code",
      "source": [
        "'''\n",
        "Homework.\n",
        "\n",
        "Write a regular expression to match:\n",
        "\n",
        "1.  Paphos, Cyprus\n",
        "2.  PaphosCyprus\n",
        "3.  Kiev\n",
        "4.  Kiev123\n",
        "\n",
        "'''"
      ],
      "metadata": {
        "id": "zb11TS73nz5K"
      },
      "execution_count": null,
      "outputs": []
    },
    {
      "cell_type": "code",
      "source": [
        "import re\n",
        "#for number 1\n",
        "txt = \"I'm TOMA, living in Paphos, Cyprus.\"\n",
        "\n",
        "\n",
        "y = re.search(\"[CPp]aphos,\\s[Cc]yprus\", txt)\n",
        "print(y)"
      ],
      "metadata": {
        "colab": {
          "base_uri": "https://localhost:8080/"
        },
        "id": "HfV3HrIRodv6",
        "outputId": "b9babe23-cf2e-4f4e-dc4e-4c8900290546"
      },
      "execution_count": null,
      "outputs": [
        {
          "output_type": "stream",
          "name": "stdout",
          "text": [
            "<re.Match object; span=(0, 14), match='Paphos, Cyprus'>\n"
          ]
        }
      ]
    },
    {
      "cell_type": "code",
      "source": [
        "import re\n",
        "#for number 2\n",
        "txt = \"I'm TOMA, living in Paphos, Cyprus or in Paphos Cyprus, or Paphos,Cyprus\"\n",
        "\n",
        "\n",
        "y = re.search(\"[CPp]aphos,?\\s?[Cc]yprus\", txt)\n",
        "print(y)"
      ],
      "metadata": {
        "colab": {
          "base_uri": "https://localhost:8080/"
        },
        "id": "tRRoudPxo9j9",
        "outputId": "9782b474-add7-4743-93a7-3bbd859db2bf"
      },
      "execution_count": null,
      "outputs": [
        {
          "output_type": "stream",
          "name": "stdout",
          "text": [
            "<re.Match object; span=(0, 13), match='Paphos Cyprus'>\n"
          ]
        }
      ]
    },
    {
      "cell_type": "code",
      "source": [
        "import re\n",
        "#for number 3\n",
        "txt = \"I love Kiev, but my friends write it like kiev\"\n",
        "\n",
        "\n",
        "y = re.search(\"[Kk]iev\", txt)\n",
        "print(y)"
      ],
      "metadata": {
        "colab": {
          "base_uri": "https://localhost:8080/"
        },
        "id": "ARbJha2hpOm8",
        "outputId": "96a715f2-a3aa-4985-ce09-578ec3bddb68"
      },
      "execution_count": 6,
      "outputs": [
        {
          "output_type": "stream",
          "name": "stdout",
          "text": [
            "<re.Match object; span=(7, 11), match='Kiev'>\n"
          ]
        }
      ]
    },
    {
      "cell_type": "code",
      "source": [
        "import re\n",
        "#for number 4\n",
        "\n",
        "txt = \" dh ekfhj Kiyv123 or kiyv123 feh eoifu \"\n",
        "\n",
        "\n",
        "y = re.search(\"[Kk]iyv...\", txt)\n",
        "print(y)"
      ],
      "metadata": {
        "colab": {
          "base_uri": "https://localhost:8080/"
        },
        "id": "f818hVomn67O",
        "outputId": "9624d784-4943-49b7-c3aa-20df451eb5db"
      },
      "execution_count": 9,
      "outputs": [
        {
          "output_type": "stream",
          "name": "stdout",
          "text": [
            "<re.Match object; span=(10, 17), match='Kiyv123'>\n"
          ]
        }
      ]
    }
  ]
}