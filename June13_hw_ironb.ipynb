{
  "nbformat": 4,
  "nbformat_minor": 0,
  "metadata": {
    "colab": {
      "provenance": [],
      "authorship_tag": "ABX9TyPeHBbtE4MKT1nKswOzE5fv",
      "include_colab_link": true
    },
    "kernelspec": {
      "name": "python3",
      "display_name": "Python 3"
    },
    "language_info": {
      "name": "python"
    }
  },
  "cells": [
    {
      "cell_type": "markdown",
      "metadata": {
        "id": "view-in-github",
        "colab_type": "text"
      },
      "source": [
        "<a href=\"https://colab.research.google.com/github/tamarakovshun/hypatia/blob/main/June13_hw_ironb.ipynb\" target=\"_parent\"><img src=\"https://colab.research.google.com/assets/colab-badge.svg\" alt=\"Open In Colab\"/></a>"
      ]
    },
    {
      "cell_type": "code",
      "source": [
        "# 1) FF\n",
        "# 2) F0\n",
        "# 3) FFF\n",
        "\n",
        "hexToDecMap = {\n",
        "    \"0\": 0,\n",
        "    \"1\": 1,\n",
        "    \"2\": 2,\n",
        "    \"3\": 3,\n",
        "    \"A\": 10,\n",
        "    \"B\": 11,\n",
        "    \"F\": 15\n",
        "}\n",
        "#inputHex = \"FF\"\n",
        "#inputHex = \"F0\"\n",
        "inputHex = \"FFF\"\n",
        "reversedinputHex = inputHex[::-1]\n",
        "\n",
        "exp=0\n",
        "dec=0\n",
        "for hex in reversedinputHex :\n",
        " dec += hexToDecMap[hex] * 16 ** exp\n",
        " exp += 1\n",
        "\n",
        "print(dec)  "
      ],
      "metadata": {
        "id": "94D6Ab1pA7Mo",
        "colab": {
          "base_uri": "https://localhost:8080/"
        },
        "outputId": "38c8fed8-a511-457d-e821-98c24a54e0b1"
      },
      "execution_count": 104,
      "outputs": [
        {
          "output_type": "stream",
          "name": "stdout",
          "text": [
            "4095\n"
          ]
        }
      ]
    }
  ]
}