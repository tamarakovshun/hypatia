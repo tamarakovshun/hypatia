{
  "nbformat": 4,
  "nbformat_minor": 0,
  "metadata": {
    "colab": {
      "provenance": [],
      "authorship_tag": "ABX9TyNAs9/r/tW9mRXHagzAAQ62",
      "include_colab_link": true
    },
    "kernelspec": {
      "name": "python3",
      "display_name": "Python 3"
    },
    "language_info": {
      "name": "python"
    }
  },
  "cells": [
    {
      "cell_type": "markdown",
      "metadata": {
        "id": "view-in-github",
        "colab_type": "text"
      },
      "source": [
        "<a href=\"https://colab.research.google.com/github/tamarakovshun/hypatia/blob/main/hwjune30.ipynb\" target=\"_parent\"><img src=\"https://colab.research.google.com/assets/colab-badge.svg\" alt=\"Open In Colab\"/></a>"
      ]
    },
    {
      "cell_type": "code",
      "source": [
        "'''\n",
        "Homework.\n",
        "\n",
        "Write a regular expression to match:\n",
        "\n",
        "1.  Paphos, Cyprus\n",
        "2.  PaphosCyprus\n",
        "3.  Kiev\n",
        "4.  Kiev123\n",
        "\n",
        "'''"
      ],
      "metadata": {
        "id": "zb11TS73nz5K"
      },
      "execution_count": null,
      "outputs": []
    },
    {
      "cell_type": "code",
      "source": [
        "import re\n",
        "#for number 1\n",
        "txt = \"Paphos, Cyprus\"\n",
        "\n",
        "\n",
        "y = re.search(\"^[CP]aphos, [CP]yprus*\", txt)\n",
        "print(y)"
      ],
      "metadata": {
        "colab": {
          "base_uri": "https://localhost:8080/"
        },
        "id": "HfV3HrIRodv6",
        "outputId": "b9babe23-cf2e-4f4e-dc4e-4c8900290546"
      },
      "execution_count": null,
      "outputs": [
        {
          "output_type": "stream",
          "name": "stdout",
          "text": [
            "<re.Match object; span=(0, 14), match='Paphos, Cyprus'>\n"
          ]
        }
      ]
    },
    {
      "cell_type": "code",
      "source": [
        "import re\n",
        "#for number 2\n",
        "txt = \"Paphos Cyprus\"\n",
        "\n",
        "\n",
        "y = re.search(\"^[CP]aphos\\s[CP]yprus*\", txt)\n",
        "print(y)"
      ],
      "metadata": {
        "colab": {
          "base_uri": "https://localhost:8080/"
        },
        "id": "tRRoudPxo9j9",
        "outputId": "9782b474-add7-4743-93a7-3bbd859db2bf"
      },
      "execution_count": null,
      "outputs": [
        {
          "output_type": "stream",
          "name": "stdout",
          "text": [
            "<re.Match object; span=(0, 13), match='Paphos Cyprus'>\n"
          ]
        }
      ]
    },
    {
      "cell_type": "code",
      "source": [
        "import re\n",
        "#for number 3\n",
        "txt = \"Kiev\"\n",
        "\n",
        "\n",
        "y = re.search(\"^Kiev*\", txt)\n",
        "print(y)"
      ],
      "metadata": {
        "colab": {
          "base_uri": "https://localhost:8080/"
        },
        "id": "ARbJha2hpOm8",
        "outputId": "a2dcf82f-acf0-4e51-ba16-02f90b9f2909"
      },
      "execution_count": null,
      "outputs": [
        {
          "output_type": "stream",
          "name": "stdout",
          "text": [
            "<re.Match object; span=(0, 4), match='Kiev'>\n"
          ]
        }
      ]
    },
    {
      "cell_type": "code",
      "source": [
        "import re\n",
        "#for number 4\n",
        "\n",
        "txt = \"Kiyv123\"\n",
        "\n",
        "\n",
        "y = re.search(\"^Kiyv\\d.\", txt)\n",
        "print(y)"
      ],
      "metadata": {
        "colab": {
          "base_uri": "https://localhost:8080/"
        },
        "id": "f818hVomn67O",
        "outputId": "b9696fa2-2524-4891-f916-b1f8887b4a83"
      },
      "execution_count": null,
      "outputs": [
        {
          "output_type": "stream",
          "name": "stdout",
          "text": [
            "<re.Match object; span=(0, 6), match='Kiyv12'>\n"
          ]
        }
      ]
    }
  ]
}