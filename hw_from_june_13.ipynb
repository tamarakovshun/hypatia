{
  "nbformat": 4,
  "nbformat_minor": 0,
  "metadata": {
    "colab": {
      "provenance": [],
      "authorship_tag": "ABX9TyMny0g+1hAru8WDWjg4Ybnk",
      "include_colab_link": true
    },
    "kernelspec": {
      "name": "python3",
      "display_name": "Python 3"
    },
    "language_info": {
      "name": "python"
    }
  },
  "cells": [
    {
      "cell_type": "markdown",
      "metadata": {
        "id": "view-in-github",
        "colab_type": "text"
      },
      "source": [
        "<a href=\"https://colab.research.google.com/github/tamarakovshun/hypatia/blob/main/hw_from_june_13.ipynb\" target=\"_parent\"><img src=\"https://colab.research.google.com/assets/colab-badge.svg\" alt=\"Open In Colab\"/></a>"
      ]
    },
    {
      "cell_type": "code",
      "execution_count": null,
      "metadata": {
        "colab": {
          "base_uri": "https://localhost:8080/"
        },
        "id": "wWLel4AL3IN6",
        "outputId": "a1dff180-ad27-4bad-fc37-d8d72d1f3d36"
      },
      "outputs": [
        {
          "output_type": "stream",
          "name": "stdout",
          "text": [
            " Alexander balance= $648584 , number acc 28748\n"
          ]
        }
      ],
      "source": [
        "class BankAccount:\n",
        "  def __init__ (self, accountnumber, balance, ownersname):\n",
        "    self.accountnumber=accountnumber\n",
        "    self.balance=balance\n",
        "    self.ownersname=ownersname\n",
        "\n",
        "Andriy=BankAccount(\"1365\", \"$1633790\", \"Andriy\")\n",
        "Alex=BankAccount(\"28748\", \"$648584\", \" Alexander\")\n",
        "\n",
        "print(Alex.ownersname, \"balance=\", Alex.balance,',',  \"number acc=\", Alex.accountnumber )\n"
      ]
    }
  ]
}